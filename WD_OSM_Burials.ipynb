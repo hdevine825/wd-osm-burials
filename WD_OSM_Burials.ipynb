{
  "cells": [
    {
      "cell_type": "code",
      "execution_count": 36,
      "metadata": {
        "id": "bpeegAXx7yWg"
      },
      "outputs": [],
      "source": [
        "try:\n",
        "  import overpass\n",
        "except:\n",
        "  !pip install overpass\n",
        "  import overpass\n",
        "from shapely.geometry import LineString\n",
        "import pandas as pd\n",
        "import numpy as np\n",
        "import json\n",
        "try:\n",
        "  from SPARQLWrapper import SPARQLWrapper, JSON\n",
        "except:\n",
        "  !pip install SPARQLWrapper\n",
        "  from SPARQLWrapper import SPARQLWrapper, JSON"
      ]
    },
    {
      "cell_type": "code",
      "execution_count": 37,
      "metadata": {
        "id": "vHFjXqcr-8Wx"
      },
      "outputs": [],
      "source": [
        "QosmCemeteries = \"\"\"\n",
        "area[wikidata={0}]->.searchArea;\n",
        "(\n",
        "  nwr[landuse=cemetery](area.searchArea);\n",
        "  nwr[amenity=graveyard](area.searchArea);\n",
        ")->.cemeteries;\n",
        ".cemeteries out center;\"\"\"\n",
        "QosmGraves = \"\"\"\n",
        "area[wikidata={0}]->.searchArea;\n",
        "(\n",
        "  nwr[historic=tomb](area.searchArea);\n",
        "  nwr[cemetery=grave](area.searchArea);\n",
        ");\n",
        "\"\"\"\n",
        "QwdBuriedPeople = \"\"\"SELECT\n",
        "  ?item\n",
        "  ?itemLabel\n",
        "  ?itemDescription\n",
        "  ?burialPlace\n",
        "  ?burialPlaceLabel\n",
        "  ?location\n",
        "  ( COUNT( ?sitelink ) AS ?sitelink_count )\n",
        "WHERE\n",
        "{{\n",
        "  ?item wdt:P31 wd:Q5. #instance of human\n",
        "  ?item wdt:P119 ?burialPlace. #place of burial\n",
        "  ?burialPlace wdt:P131+ wd:{0}. #place of burial in config city\n",
        "  OPTIONAL{{?item p:P119 [ ps:P119 ?placeburial; pq:P625 ?location ].}} #return the coordinate location qualifier of place of burial if it exists\n",
        "  ?sitelink schema:about ?item. #get site links\n",
        "  SERVICE wikibase:label {{ bd:serviceParam wikibase:language \"en\". }} #default label thing\n",
        "  Optional{{?item schema:description\"en\".}} #get English description\n",
        "}}\n",
        "GROUP BY ?item ?itemLabel ?location ?burialPlace ?burialPlaceLabel ?itemDescription ?burialPlaceCoords #group items, if other field are to be shown they need to be added to this\n",
        "ORDER BY DESC( COUNT( ?sitelink ) ) #sort by number of sitelinks for each item\n",
        "\"\"\"\n",
        "\n",
        "QwdCemeteries = \"\"\"SELECT DISTINCT ?item ?itemLabel ?coordLocation WHERE {{\n",
        "  ?item wdt:P131+ wd:{0}. #located in config city or area in config city\n",
        "  ?item (wdt:P31|wdt:P31/wdt:P279|wdt:P31/wdt:P279/wdt:P279) wd:Q39614. #instance of cemetery, only goes 2 layers into subclasses to limit timeout issues\n",
        "  OPTIONAL{{?item wdt:P625 ?coordLocation.}}\n",
        "  SERVICE wikibase:label {{ bd:serviceParam wikibase:language \"en\". }}\n",
        "}}\"\"\"\n"
      ]
    },
    {
      "cell_type": "code",
      "execution_count": 38,
      "metadata": {
        "id": "Zk4imdid-Ieu"
      },
      "outputs": [],
      "source": [
        "areaQID = \"Q60\" # @param {type:\"string\"}"
      ]
    },
    {
      "cell_type": "code",
      "execution_count": 39,
      "metadata": {
        "id": "a_KRz6UI8AwF"
      },
      "outputs": [],
      "source": [
        "overpassAPI = overpass.API()\n",
        "def extractQID(s):\n",
        "\tstart = s.rfind('/')+1\n",
        "\tend = len(s)\n",
        "\ts = s[start:end]\n",
        "\treturn s\n",
        "sparql = SPARQLWrapper(\"https://query.wikidata.org/bigdata/namespace/wdq/sparql\", agent = \"https://github.com/hdevine825/wd-osm-burials\")\n",
        "sparql.setReturnFormat(JSON)\n",
        "nan=np.nan"
      ]
    },
    {
      "cell_type": "code",
      "execution_count": 40,
      "metadata": {
        "colab": {
          "base_uri": "https://localhost:8080/"
        },
        "id": "h2YMvB1O9ruQ",
        "outputId": "43bcb4e3-555f-4325-b9e6-04b622f4429e"
      },
      "outputs": [
        {
          "name": "stdout",
          "output_type": "stream",
          "text": [
            "Wikidata returned 2507 people buried in 81 places\n"
          ]
        }
      ],
      "source": [
        "sparql.setQuery(QwdBuriedPeople.format(areaQID))\n",
        "results = sparql.query().convert()\n",
        "wddf = pd.json_normalize(results['results']['bindings'])\n",
        "wddf['personQID'] = wddf.apply(lambda row: extractQID(row['item.value']),axis=1)\n",
        "wddf['burialPlaceQID'] = wddf.apply(lambda row: extractQID(row['burialPlace.value']),axis=1)\n",
        "print(\"Wikidata returned {0} people buried in {1} places\".format(wddf.shape[0],wddf['burialPlace.value'].nunique()))"
      ]
    },
    {
      "cell_type": "code",
      "execution_count": 41,
      "metadata": {
        "colab": {
          "base_uri": "https://localhost:8080/"
        },
        "id": "EADR6M0w_6Qh",
        "outputId": "5d6284f1-1d13-4b34-f303-3cd3a5d428ae"
      },
      "outputs": [
        {
          "name": "stdout",
          "output_type": "stream",
          "text": [
            "Wikidata returned 77 cemeteries\n"
          ]
        }
      ],
      "source": [
        "sparql.setQuery(QwdCemeteries.format(areaQID))\n",
        "results = sparql.query().convert()\n",
        "wdcemdf = pd.json_normalize(results['results']['bindings'])\n",
        "wdcemdf['cemeteryQID'] = wdcemdf.apply(lambda row: extractQID(row['item.value']),axis=1)\n",
        "print(\"Wikidata returned {0} cemeteries\".format(wdcemdf.shape[0]))"
      ]
    },
    {
      "cell_type": "code",
      "execution_count": 42,
      "metadata": {
        "colab": {
          "base_uri": "https://localhost:8080/"
        },
        "id": "FpDZFv9bANms",
        "outputId": "e0414262-e333-473a-c17e-36bc8f425824"
      },
      "outputs": [
        {
          "name": "stdout",
          "output_type": "stream",
          "text": [
            "Overpass returned 109 cemeteries\n"
          ]
        }
      ],
      "source": [
        "osmcem = overpassAPI.get(QosmCemeteries.format(areaQID),verbosity=\"geom center\",responseformat=\"json\")\n",
        "osmcemdf = pd.json_normalize(osmcem['elements'])\n",
        "print(\"Overpass returned {0} cemeteries\".format(osmcemdf.shape[0]))"
      ]
    },
    {
      "cell_type": "code",
      "execution_count": 43,
      "metadata": {
        "id": "pJvEubMLD1vc"
      },
      "outputs": [],
      "source": [
        "osmGraves = overpassAPI.get(QosmGraves.format(areaQID),verbosity=\"geom center\",responseformat=\"json\")"
      ]
    },
    {
      "cell_type": "code",
      "execution_count": 44,
      "metadata": {
        "colab": {
          "base_uri": "https://localhost:8080/"
        },
        "id": "nrcK4plfhh0z",
        "outputId": "70aa019d-b7e2-42d5-e274-a188c7a96933"
      },
      "outputs": [
        {
          "name": "stdout",
          "output_type": "stream",
          "text": [
            "Overpass returned 802 graves\n"
          ]
        }
      ],
      "source": [
        "osmGravesdf = pd.json_normalize(osmGraves['elements'])\n",
        "print(\"Overpass returned {0} graves\".format(osmGravesdf.shape[0]))"
      ]
    },
    {
      "cell_type": "code",
      "execution_count": 45,
      "metadata": {
        "colab": {
          "base_uri": "https://localhost:8080/"
        },
        "id": "DU8g-VPuDkVx",
        "outputId": "d16d8fa0-65cb-4b47-a7aa-6656dced8cfa"
      },
      "outputs": [
        {
          "name": "stdout",
          "output_type": "stream",
          "text": [
            "Saint Michael's Cemetery: WD: Point(-73.8994 40.7647) OSM: -73.8989193, 40.7637089\n",
            "Holy Cross Cemetery: WD: Point(-73.938569444 40.646488888) OSM: -73.938083, 40.647115\n",
            "Silver Mount Cemetery: WD: Point(-74.0956 40.6219) OSM: -74.0952168, 40.6219986\n",
            "The Evergreens Cemetery: WD: Point(-73.901194 40.683889) OSM: -73.8989755, 40.6865328\n",
            "First Shearith Israel Graveyard: WD: Point(-73.998333 40.7125) OSM: -73.9983586, 40.7127712\n",
            "Trinity Church Cemetery: WD: Point(-74.011667 40.708333) OSM: -74.0120391, 40.7081698\n",
            "Baron Hirsch Cemetery: WD: Point(-74.1549 40.6221) OSM: -74.1559323, 40.6220845\n",
            "Cypress Hills National Cemetery: WD: Point(-73.8753 40.689) OSM: -73.8821044, 40.6876036\n",
            "Flushing Cemetery: WD: Point(-73.799444444 40.751666666) OSM: -73.799431, 40.7516635\n",
            "Green-Wood Cemetery: WD: Point(-73.99024 40.65241) OSM: -73.9923642, 40.651906\n",
            "New York Marble Cemetery: WD: Point(-73.990972 40.725625) OSM: -73.9909804, 40.7256318\n",
            "Mount Saint Mary Cemetery: WD: Point(-73.8017 40.7406) OSM: -73.8005869, 40.7404145\n",
            "Beth Olam Cemetery: WD: Point(-73.88 40.69055556) OSM: -73.880162, 40.6906332\n",
            "Beth Olam Cemetery: WD: Point(-73.885996 40.695303) OSM: -73.880162, 40.6906332\n",
            "Cedar Grove Cemetery: WD: Point(-73.8344 40.7394) OSM: -73.8315588, 40.7381339\n",
            "Calvary Cemetery: WD: Point(-73.918055555 40.735277777) OSM: -73.9224847, 40.7351988\n",
            "Woodlawn Cemetery: WD: Point(-73.873333 40.889167) OSM: -73.8719746, 40.8882909\n",
            "St. Peter's Cemetery: WD: Point(-74.1114 40.6226) OSM: -74.1141501, 40.6225284\n",
            "St. John Cemetery: WD: Point(-73.8669 40.715) OSM: -73.8660993, 40.7148217\n",
            "Washington Cemetery: WD: Point(-73.9764 40.62) OSM: -73.9765164, 40.6201714\n",
            "Salem Fields Cemetery: WD: Point(-73.8781 40.6889) OSM: -73.8793609, 40.6883873\n",
            "Gravesend Cemetery: WD: Point(-73.975 40.594444) OSM: -73.97463, 40.5946698\n",
            "All Faiths Cemetery: WD: Point(-73.8875 40.71222222) OSM: -73.887454, 40.7124883\n",
            "Cypress Hills Cemetery: WD: Point(-73.875277777 40.689166666) OSM: -73.8762275, 40.6948558\n",
            "Moore-Jackson Cemetery: WD: Point(-73.907777777 40.756111111) OSM: -73.907682, 40.7560068\n",
            "Saint Raymonds Cemetery: WD: Point(-73.8339 40.825) OSM: -73.8317301, 40.8271296\n",
            "Mount Olivet Cemetery: WD: Point(-73.896698 40.7206001) OSM: -73.8966452, 40.720194\n",
            "Union Field Cemetery: WD: Point(-73.891098 40.6939011) OSM: -73.8910187, 40.6931582\n",
            "New York City Marble Cemetery: WD: Point(-73.989167 40.724722) OSM: -73.9888958, 40.7246105\n",
            "Most Holy Trinity Cemetery: WD: Point(-73.9029 40.6887) OSM: -73.9028519, 40.6888565\n",
            "Mount Carmel Cemetery: WD: Point(-73.879444444 40.693888888) OSM: -73.8828688, 40.6962662\n"
          ]
        }
      ],
      "source": [
        "mergedCemdf = pd.merge(left=wdcemdf,right=osmcemdf,left_on='cemeteryQID',right_on='tags.wikidata')\n",
        "for index, row in mergedCemdf.iterrows():\n",
        "\tprint(\"{0}: WD: {1} OSM: {2}, {3}\".format(row['itemLabel.value'],row['coordLocation.value'],row['center.lon'],row['center.lat']))\n",
        "\tburialsdf = wddf.query(\"burialPlaceQID=='{0}'\".format(row[\"cemeteryQID\"]))\n",
        "\t#for pindex, prow in burialsdf.iterrows():\n",
        "\t\t#print(\" \"+prow[\"itemLabel.value\"])\n",
        "\t#Incorporate measuring distance between points here"
      ]
    },
    {
      "cell_type": "code",
      "execution_count": 46,
      "metadata": {
        "id": "BNG-Ny1tH3d5"
      },
      "outputs": [],
      "source": [
        "osmGravesdf['tags.subject:wikidata'].fillna(osmGravesdf['tags.buried:wikidata'],axis=0,inplace=True)\n",
        "mergedBurialdf = pd.merge(how='outer',left=wddf,right=osmGravesdf,left_on='personQID',right_on='tags.subject:wikidata')"
      ]
    },
    {
      "cell_type": "code",
      "execution_count": 47,
      "metadata": {
        "colab": {
          "base_uri": "https://localhost:8080/"
        },
        "id": "x4lmep3wauJY",
        "outputId": "8cfe2d31-85e7-4ab4-c49d-036c67463269"
      },
      "outputs": [
        {
          "name": "stdout",
          "output_type": "stream",
          "text": [
            "People with WD coordinates and burial on OSM: 11\n",
            "Burials on OSM without coordinates in Wikidata: 2\n",
            "Burials with WD tags on OSM not in WD query: 1\n",
            "Burials on OSM without WD tags: 789\n",
            "   With name=*: 20\n"
          ]
        }
      ],
      "source": [
        "fullCoords = mergedBurialdf.query(\"`tags.subject:wikidata`==`tags.subject:wikidata` & `location.value`==`location.value`\")\n",
        "osmNoWDcoords = mergedBurialdf.query(\"`tags.subject:wikidata`==`tags.subject:wikidata` & `location.value`!=`location.value` & `item.type`==`item.type`\")\n",
        "osmNoWD = mergedBurialdf.query(\"`tags.subject:wikidata`==`tags.subject:wikidata` & `item.type`!=`item.type`\")\n",
        "osmNoQID = mergedBurialdf.query(\"`tags.subject:wikidata`!=`tags.subject:wikidata` & id==id\")\n",
        "print(\"People with WD coordinates and burial on OSM: {0}\".format(fullCoords.shape[0]))\n",
        "print(\"Burials on OSM without coordinates in Wikidata: {0}\".format(osmNoWDcoords.shape[0]))\n",
        "print(\"Burials with WD tags on OSM not in WD query: {0}\".format(osmNoWD.shape[0]))\n",
        "print(\"Burials on OSM without WD tags: {0}\".format(osmNoQID.shape[0]))\n",
        "print(\"   With name=*: {0}\".format(osmNoQID.query(\"`tags.name`==`tags.name`\").shape[0]))"
      ]
    },
    {
      "cell_type": "code",
      "execution_count": 47,
      "metadata": {
        "id": "ztY3BurIefjL"
      },
      "outputs": [],
      "source": []
    }
  ],
  "metadata": {
    "colab": {
      "authorship_tag": "ABX9TyOZGvIs6LgDhXvu2wCPYfa5",
      "provenance": []
    },
    "kernelspec": {
      "display_name": "Python 3",
      "name": "python3"
    },
    "language_info": {
      "name": "python"
    }
  },
  "nbformat": 4,
  "nbformat_minor": 0
}
